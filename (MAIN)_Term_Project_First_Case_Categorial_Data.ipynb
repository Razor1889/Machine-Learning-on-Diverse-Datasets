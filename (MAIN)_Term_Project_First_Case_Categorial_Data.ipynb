{
  "cells": [
    {
      "cell_type": "markdown",
      "metadata": {
        "id": "view-in-github",
        "colab_type": "text"
      },
      "source": [
        "<a href=\"https://colab.research.google.com/github/Razor1889/Machine-Learning-on-Diverse-Datasets/blob/main/(MAIN)_Term_Project_First_Case_Categorial_Data.ipynb\" target=\"_parent\"><img src=\"https://colab.research.google.com/assets/colab-badge.svg\" alt=\"Open In Colab\"/></a>"
      ]
    },
    {
      "cell_type": "markdown",
      "id": "871b5398",
      "metadata": {
        "id": "871b5398"
      },
      "source": [
        "## A Comparative Evaluation of Machine Learning Techniques on Diverse Dataset Types"
      ]
    },
    {
      "cell_type": "markdown",
      "id": "e50ae0a5",
      "metadata": {
        "id": "e50ae0a5"
      },
      "source": [
        "The base ideology behind this project is referenced from Data Professor.\n",
        "[Link to his Channel](https://www.youtube.com/@DataProfessor/featured)"
      ]
    },
    {
      "cell_type": "markdown",
      "id": "0d780c98",
      "metadata": {
        "id": "0d780c98"
      },
      "source": [
        "### Introduction of the Process and the First Dataset\n",
        "\n",
        "We will start the project by loading a dataset. The first dataset used is compiled by Data Professor based on the chracteristation of individual flower species within their genus *Iris*. The resulting chracterisation depends on the four input variables being the sepal length and width, and the petal length and width."
      ]
    },
    {
      "cell_type": "code",
      "execution_count": null,
      "id": "96fb9894",
      "metadata": {
        "id": "96fb9894",
        "outputId": "ae5ad085-fe8e-4e20-8824-e18eea2a8d1a"
      },
      "outputs": [
        {
          "data": {
            "text/html": [
              "<div>\n",
              "<style scoped>\n",
              "    .dataframe tbody tr th:only-of-type {\n",
              "        vertical-align: middle;\n",
              "    }\n",
              "\n",
              "    .dataframe tbody tr th {\n",
              "        vertical-align: top;\n",
              "    }\n",
              "\n",
              "    .dataframe thead th {\n",
              "        text-align: right;\n",
              "    }\n",
              "</style>\n",
              "<table border=\"1\" class=\"dataframe\">\n",
              "  <thead>\n",
              "    <tr style=\"text-align: right;\">\n",
              "      <th></th>\n",
              "      <th>Sepal.Length</th>\n",
              "      <th>Sepal.Width</th>\n",
              "      <th>Petal.Length</th>\n",
              "      <th>Petal.Width</th>\n",
              "      <th>Species</th>\n",
              "    </tr>\n",
              "  </thead>\n",
              "  <tbody>\n",
              "    <tr>\n",
              "      <th>0</th>\n",
              "      <td>5.1</td>\n",
              "      <td>3.5</td>\n",
              "      <td>1.4</td>\n",
              "      <td>0.2</td>\n",
              "      <td>setosa</td>\n",
              "    </tr>\n",
              "    <tr>\n",
              "      <th>1</th>\n",
              "      <td>4.9</td>\n",
              "      <td>3.0</td>\n",
              "      <td>1.4</td>\n",
              "      <td>0.2</td>\n",
              "      <td>setosa</td>\n",
              "    </tr>\n",
              "    <tr>\n",
              "      <th>2</th>\n",
              "      <td>4.7</td>\n",
              "      <td>3.2</td>\n",
              "      <td>1.3</td>\n",
              "      <td>0.2</td>\n",
              "      <td>setosa</td>\n",
              "    </tr>\n",
              "    <tr>\n",
              "      <th>3</th>\n",
              "      <td>4.6</td>\n",
              "      <td>3.1</td>\n",
              "      <td>1.5</td>\n",
              "      <td>0.2</td>\n",
              "      <td>setosa</td>\n",
              "    </tr>\n",
              "    <tr>\n",
              "      <th>4</th>\n",
              "      <td>5.0</td>\n",
              "      <td>3.6</td>\n",
              "      <td>1.4</td>\n",
              "      <td>0.2</td>\n",
              "      <td>setosa</td>\n",
              "    </tr>\n",
              "    <tr>\n",
              "      <th>...</th>\n",
              "      <td>...</td>\n",
              "      <td>...</td>\n",
              "      <td>...</td>\n",
              "      <td>...</td>\n",
              "      <td>...</td>\n",
              "    </tr>\n",
              "    <tr>\n",
              "      <th>145</th>\n",
              "      <td>6.7</td>\n",
              "      <td>3.0</td>\n",
              "      <td>5.2</td>\n",
              "      <td>2.3</td>\n",
              "      <td>virginica</td>\n",
              "    </tr>\n",
              "    <tr>\n",
              "      <th>146</th>\n",
              "      <td>6.3</td>\n",
              "      <td>2.5</td>\n",
              "      <td>5.0</td>\n",
              "      <td>1.9</td>\n",
              "      <td>virginica</td>\n",
              "    </tr>\n",
              "    <tr>\n",
              "      <th>147</th>\n",
              "      <td>6.5</td>\n",
              "      <td>3.0</td>\n",
              "      <td>5.2</td>\n",
              "      <td>2.0</td>\n",
              "      <td>virginica</td>\n",
              "    </tr>\n",
              "    <tr>\n",
              "      <th>148</th>\n",
              "      <td>6.2</td>\n",
              "      <td>3.4</td>\n",
              "      <td>5.4</td>\n",
              "      <td>2.3</td>\n",
              "      <td>virginica</td>\n",
              "    </tr>\n",
              "    <tr>\n",
              "      <th>149</th>\n",
              "      <td>5.9</td>\n",
              "      <td>3.0</td>\n",
              "      <td>5.1</td>\n",
              "      <td>1.8</td>\n",
              "      <td>virginica</td>\n",
              "    </tr>\n",
              "  </tbody>\n",
              "</table>\n",
              "<p>150 rows × 5 columns</p>\n",
              "</div>"
            ],
            "text/plain": [
              "     Sepal.Length  Sepal.Width  Petal.Length  Petal.Width    Species\n",
              "0             5.1          3.5           1.4          0.2     setosa\n",
              "1             4.9          3.0           1.4          0.2     setosa\n",
              "2             4.7          3.2           1.3          0.2     setosa\n",
              "3             4.6          3.1           1.5          0.2     setosa\n",
              "4             5.0          3.6           1.4          0.2     setosa\n",
              "..            ...          ...           ...          ...        ...\n",
              "145           6.7          3.0           5.2          2.3  virginica\n",
              "146           6.3          2.5           5.0          1.9  virginica\n",
              "147           6.5          3.0           5.2          2.0  virginica\n",
              "148           6.2          3.4           5.4          2.3  virginica\n",
              "149           5.9          3.0           5.1          1.8  virginica\n",
              "\n",
              "[150 rows x 5 columns]"
            ]
          },
          "execution_count": 26,
          "metadata": {},
          "output_type": "execute_result"
        }
      ],
      "source": [
        "#Read in Data.\n",
        "import pandas as pd\n",
        "import IPython\n",
        "import timeit\n",
        "df = pd.read_csv('https://raw.githubusercontent.com/dataprofessor/data/master/iris.csv')\n",
        "df"
      ]
    },
    {
      "cell_type": "markdown",
      "id": "96c2d2cc",
      "metadata": {
        "id": "96c2d2cc"
      },
      "source": [
        "The data read is broken down into 4 characteristic columns and 1 resulting species column.\n",
        "We will now separate the data set such that we have an array of characteristics and a vector of resulting species.\n",
        "In the form of y = F(x). Where we can create a machine learning program F such that,\n",
        "it can take in input array x and output a predictive y."
      ]
    },
    {
      "cell_type": "code",
      "execution_count": null,
      "id": "4c6c1cd3",
      "metadata": {
        "id": "4c6c1cd3",
        "outputId": "b1afa932-3ab0-4187-b0d3-cdaba6a69e0a"
      },
      "outputs": [
        {
          "data": {
            "text/plain": [
              "0         setosa\n",
              "1         setosa\n",
              "2         setosa\n",
              "3         setosa\n",
              "4         setosa\n",
              "         ...    \n",
              "145    virginica\n",
              "146    virginica\n",
              "147    virginica\n",
              "148    virginica\n",
              "149    virginica\n",
              "Name: Species, Length: 150, dtype: object"
            ]
          },
          "execution_count": 27,
          "metadata": {},
          "output_type": "execute_result"
        }
      ],
      "source": [
        "#Split the table such that we have y = F(x).\n",
        "#Isolate the result.\n",
        "y = df['Species']\n",
        "y"
      ]
    },
    {
      "cell_type": "code",
      "execution_count": null,
      "id": "f666db60",
      "metadata": {
        "id": "f666db60",
        "outputId": "e0c3135a-b41a-4bf8-f823-35c75b18aa14"
      },
      "outputs": [
        {
          "data": {
            "text/html": [
              "<div>\n",
              "<style scoped>\n",
              "    .dataframe tbody tr th:only-of-type {\n",
              "        vertical-align: middle;\n",
              "    }\n",
              "\n",
              "    .dataframe tbody tr th {\n",
              "        vertical-align: top;\n",
              "    }\n",
              "\n",
              "    .dataframe thead th {\n",
              "        text-align: right;\n",
              "    }\n",
              "</style>\n",
              "<table border=\"1\" class=\"dataframe\">\n",
              "  <thead>\n",
              "    <tr style=\"text-align: right;\">\n",
              "      <th></th>\n",
              "      <th>Sepal.Length</th>\n",
              "      <th>Sepal.Width</th>\n",
              "      <th>Petal.Length</th>\n",
              "      <th>Petal.Width</th>\n",
              "    </tr>\n",
              "  </thead>\n",
              "  <tbody>\n",
              "    <tr>\n",
              "      <th>0</th>\n",
              "      <td>5.1</td>\n",
              "      <td>3.5</td>\n",
              "      <td>1.4</td>\n",
              "      <td>0.2</td>\n",
              "    </tr>\n",
              "    <tr>\n",
              "      <th>1</th>\n",
              "      <td>4.9</td>\n",
              "      <td>3.0</td>\n",
              "      <td>1.4</td>\n",
              "      <td>0.2</td>\n",
              "    </tr>\n",
              "    <tr>\n",
              "      <th>2</th>\n",
              "      <td>4.7</td>\n",
              "      <td>3.2</td>\n",
              "      <td>1.3</td>\n",
              "      <td>0.2</td>\n",
              "    </tr>\n",
              "    <tr>\n",
              "      <th>3</th>\n",
              "      <td>4.6</td>\n",
              "      <td>3.1</td>\n",
              "      <td>1.5</td>\n",
              "      <td>0.2</td>\n",
              "    </tr>\n",
              "    <tr>\n",
              "      <th>4</th>\n",
              "      <td>5.0</td>\n",
              "      <td>3.6</td>\n",
              "      <td>1.4</td>\n",
              "      <td>0.2</td>\n",
              "    </tr>\n",
              "    <tr>\n",
              "      <th>...</th>\n",
              "      <td>...</td>\n",
              "      <td>...</td>\n",
              "      <td>...</td>\n",
              "      <td>...</td>\n",
              "    </tr>\n",
              "    <tr>\n",
              "      <th>145</th>\n",
              "      <td>6.7</td>\n",
              "      <td>3.0</td>\n",
              "      <td>5.2</td>\n",
              "      <td>2.3</td>\n",
              "    </tr>\n",
              "    <tr>\n",
              "      <th>146</th>\n",
              "      <td>6.3</td>\n",
              "      <td>2.5</td>\n",
              "      <td>5.0</td>\n",
              "      <td>1.9</td>\n",
              "    </tr>\n",
              "    <tr>\n",
              "      <th>147</th>\n",
              "      <td>6.5</td>\n",
              "      <td>3.0</td>\n",
              "      <td>5.2</td>\n",
              "      <td>2.0</td>\n",
              "    </tr>\n",
              "    <tr>\n",
              "      <th>148</th>\n",
              "      <td>6.2</td>\n",
              "      <td>3.4</td>\n",
              "      <td>5.4</td>\n",
              "      <td>2.3</td>\n",
              "    </tr>\n",
              "    <tr>\n",
              "      <th>149</th>\n",
              "      <td>5.9</td>\n",
              "      <td>3.0</td>\n",
              "      <td>5.1</td>\n",
              "      <td>1.8</td>\n",
              "    </tr>\n",
              "  </tbody>\n",
              "</table>\n",
              "<p>150 rows × 4 columns</p>\n",
              "</div>"
            ],
            "text/plain": [
              "     Sepal.Length  Sepal.Width  Petal.Length  Petal.Width\n",
              "0             5.1          3.5           1.4          0.2\n",
              "1             4.9          3.0           1.4          0.2\n",
              "2             4.7          3.2           1.3          0.2\n",
              "3             4.6          3.1           1.5          0.2\n",
              "4             5.0          3.6           1.4          0.2\n",
              "..            ...          ...           ...          ...\n",
              "145           6.7          3.0           5.2          2.3\n",
              "146           6.3          2.5           5.0          1.9\n",
              "147           6.5          3.0           5.2          2.0\n",
              "148           6.2          3.4           5.4          2.3\n",
              "149           5.9          3.0           5.1          1.8\n",
              "\n",
              "[150 rows x 4 columns]"
            ]
          },
          "execution_count": 28,
          "metadata": {},
          "output_type": "execute_result"
        }
      ],
      "source": [
        "#By dropping the Species column, we have isolated the rest of the table.\n",
        "x = df.drop('Species', axis=1)\n",
        "x"
      ]
    },
    {
      "cell_type": "markdown",
      "id": "692b690a",
      "metadata": {
        "id": "692b690a"
      },
      "source": [
        "Now that we have the data, we can then split the data into a 80-20 test train set, which is the first model training strategy. This strategy, along with others introduced in this project, are made possible by scikit and their model training utilities.\n",
        "\n",
        "### 80-20 Train and Test Split"
      ]
    },
    {
      "cell_type": "code",
      "execution_count": null,
      "id": "87a0ed4c",
      "metadata": {
        "id": "87a0ed4c"
      },
      "outputs": [],
      "source": [
        "from sklearn.model_selection import train_test_split\n",
        "\n",
        "x_train, x_test, y_train, y_test = train_test_split(x, y, test_size=0.2, random_state=100)\n",
        "#We then create a training and testing split of 0.2 to the dataset (meaning we only train the 0.8 and test on the 0.2).\n",
        "#The random state is selected to be 100. What is the random state? It is simply a seed value sent to a randomness generator.\n",
        "#This generator shuffles the set before splitting it.\n",
        "#By keeping the random state seed value at a constant (i.e 100) we ensure that if we reproduce this test,\n",
        "#we will get the same result, making it easier to reproduce tests and maintain consistency."
      ]
    },
    {
      "cell_type": "code",
      "execution_count": null,
      "id": "16668087",
      "metadata": {
        "id": "16668087",
        "outputId": "9f834ad6-97c3-4aa7-b242-d116f7e5d19f"
      },
      "outputs": [
        {
          "name": "stdout",
          "output_type": "stream",
          "text": [
            "785 µs ± 110 µs per loop (mean ± std. dev. of 7 runs, 100 loops each)\n"
          ]
        }
      ],
      "source": [
        "%%timeit -n 100\n",
        "#Efficiency Analysis !!!ALWAYS RUN TIMEIT AS FIRST LINE IN CELL!!!\n",
        "train_test_split(x, y, test_size=0.2, random_state=100)"
      ]
    },
    {
      "cell_type": "code",
      "execution_count": null,
      "id": "64f5d6e3",
      "metadata": {
        "id": "64f5d6e3"
      },
      "outputs": [],
      "source": [
        "#x_train\n",
        "#Our train set has 80% of the 150 records.\n",
        "#Note the shuffling of the data with seed 100, by looking at the record numbers in the leftmost column."
      ]
    },
    {
      "cell_type": "code",
      "execution_count": null,
      "id": "3d99770a",
      "metadata": {
        "id": "3d99770a"
      },
      "outputs": [],
      "source": [
        "#x_test\n",
        "#Our test set has the other 20%."
      ]
    },
    {
      "cell_type": "markdown",
      "id": "4b747dd3",
      "metadata": {
        "id": "4b747dd3"
      },
      "source": [
        "### Training the Model"
      ]
    },
    {
      "cell_type": "code",
      "execution_count": null,
      "id": "f86ec982",
      "metadata": {
        "id": "f86ec982"
      },
      "outputs": [],
      "source": [
        "#We then perform linear regression, however, since our y data has string values, we need to encode the values\n",
        "#such that they have numerical assignments to each category of species.\n",
        "from sklearn.preprocessing import LabelEncoder\n",
        "\n",
        "label_encoder = LabelEncoder()\n",
        "\n",
        "y_train = label_encoder.fit_transform(y_train)\n",
        "y_test = label_encoder.fit_transform(y_test)"
      ]
    },
    {
      "cell_type": "code",
      "execution_count": null,
      "id": "f9ef968a",
      "metadata": {
        "id": "f9ef968a",
        "outputId": "4f46c3c2-aa88-4276-c131-74cbbd9cb3da"
      },
      "outputs": [
        {
          "data": {
            "text/plain": [
              "LinearRegression()"
            ]
          },
          "execution_count": 34,
          "metadata": {},
          "output_type": "execute_result"
        }
      ],
      "source": [
        "from sklearn.linear_model import LinearRegression\n",
        "#Create a linear regression model and provide the training data\n",
        "lr = LinearRegression()\n",
        "lr.fit(x_train, y_train)\n",
        "#lr.fit trains the data"
      ]
    },
    {
      "cell_type": "code",
      "execution_count": null,
      "id": "8ceb4a03",
      "metadata": {
        "id": "8ceb4a03",
        "outputId": "ec43932b-8dba-4205-baf9-e5e39a3c68a2"
      },
      "outputs": [
        {
          "name": "stdout",
          "output_type": "stream",
          "text": [
            "1.86 ms ± 135 µs per loop (mean ± std. dev. of 7 runs, 100 loops each)\n"
          ]
        }
      ],
      "source": [
        "%%timeit -n 100\n",
        "#Testing Training Time\n",
        "lr.fit(x_train, y_train)"
      ]
    },
    {
      "cell_type": "code",
      "execution_count": null,
      "id": "7a4585d4",
      "metadata": {
        "id": "7a4585d4",
        "outputId": "c6ddf449-28ad-412a-afcc-472f85598857"
      },
      "outputs": [
        {
          "data": {
            "text/plain": [
              "array([1, 1, 2, 0, 0, 1, 0, 1, 2, 2, 0, 1, 2, 2, 0, 0, 0, 0, 1, 0, 0, 0,\n",
              "       1, 2, 2, 1, 2, 1, 2, 2, 1, 0, 2, 2, 2, 0, 0, 2, 0, 0, 0, 1, 2, 2,\n",
              "       2, 0, 1, 1, 0, 1, 1, 2, 0, 1, 1, 1, 1, 1, 1, 2, 2, 0, 1, 0, 1, 2,\n",
              "       2, 2, 1, 0, 0, 0, 0, 2, 0, 0, 1, 0, 2, 1, 2, 0, 2, 2, 0, 1, 1, 1,\n",
              "       2, 1, 1, 0, 0, 0, 2, 1, 1, 0, 2, 2, 2, 1, 1, 1, 1, 2, 2, 0, 0, 1,\n",
              "       1, 1, 1, 2, 1, 1, 2, 1, 0, 0])"
            ]
          },
          "execution_count": 36,
          "metadata": {},
          "output_type": "execute_result"
        }
      ],
      "source": [
        "y_train\n",
        "#Note that we have representations of 0,1,2 which represent the three possible classifications of species;\n",
        "#virginica, versicolor, setosa"
      ]
    },
    {
      "cell_type": "code",
      "execution_count": null,
      "id": "f01ea9e4",
      "metadata": {
        "id": "f01ea9e4"
      },
      "outputs": [],
      "source": [
        "#We then use the model (F) to predict the y values based on the x data.\n",
        "y_lr_train_pred = lr.predict(x_train)\n",
        "y_lr_test_pred = lr.predict(x_test)"
      ]
    },
    {
      "cell_type": "code",
      "execution_count": null,
      "id": "22b02c10",
      "metadata": {
        "id": "22b02c10",
        "outputId": "294069f4-f830-4c2a-9b2c-724fc5e09a31"
      },
      "outputs": [
        {
          "name": "stdout",
          "output_type": "stream",
          "text": [
            "929 µs ± 145 µs per loop (mean ± std. dev. of 7 runs, 100 loops each)\n"
          ]
        }
      ],
      "source": [
        "%%timeit -n 100\n",
        "#Testing Predicting Time\n",
        "lr.predict(x_train)"
      ]
    },
    {
      "cell_type": "code",
      "execution_count": null,
      "id": "57bac62e",
      "metadata": {
        "id": "57bac62e",
        "outputId": "a4b5428f-d2fd-459c-f82e-b7b7b7d7e979"
      },
      "outputs": [
        {
          "name": "stdout",
          "output_type": "stream",
          "text": [
            "932 µs ± 183 µs per loop (mean ± std. dev. of 7 runs, 100 loops each)\n"
          ]
        }
      ],
      "source": [
        "%%timeit -n 100\n",
        "#Testing Predicting Time\n",
        "lr.predict(x_test)"
      ]
    },
    {
      "cell_type": "code",
      "execution_count": null,
      "id": "5a087993",
      "metadata": {
        "id": "5a087993",
        "outputId": "b9bdef6f-e423-4fc0-fde5-747d71ad4327"
      },
      "outputs": [
        {
          "data": {
            "text/plain": [
              "array([ 9.34420438e-01,  1.15668126e+00,  1.48647990e+00, -8.35187957e-02,\n",
              "       -4.18459712e-02,  1.27475417e+00, -5.72695640e-02,  1.17111089e+00,\n",
              "        2.04533953e+00,  2.01565930e+00,  8.17920506e-02,  1.19673661e+00,\n",
              "        1.88947412e+00,  2.12171305e+00, -7.63372421e-02,  2.66981600e-02,\n",
              "        1.70687914e-03,  4.32077524e-02,  1.07900760e+00, -7.63372421e-02,\n",
              "        1.71655780e-01, -1.01008953e-01,  1.31307345e+00,  1.82082351e+00,\n",
              "        1.58016071e+00,  1.37877014e+00,  1.72004330e+00,  1.17301891e+00,\n",
              "        2.02364620e+00,  1.69302659e+00,  1.05021487e+00, -1.34425151e-01,\n",
              "        1.78873282e+00,  1.86228547e+00,  1.44421155e+00, -1.63934464e-01,\n",
              "       -2.35072403e-02,  1.72984945e+00,  4.84147717e-02, -1.42906839e-01,\n",
              "        2.04199073e-01,  1.32546202e+00,  1.98025294e+00,  2.09591538e+00,\n",
              "        1.52939727e+00, -1.01075469e-01,  1.35733091e+00,  1.56345261e+00,\n",
              "        9.53850008e-03,  1.27232808e+00,  8.99096222e-01,  1.56089452e+00,\n",
              "       -8.37173022e-02,  1.33006116e+00,  1.15338226e+00,  1.53631484e+00,\n",
              "        1.20654054e+00,  1.35534179e+00,  1.10838388e+00,  1.95673375e+00,\n",
              "        1.78730292e+00, -1.05433914e-01,  1.41776382e+00, -2.53098234e-02,\n",
              "        1.13149148e+00,  1.56571545e+00,  1.68185601e+00,  1.57250326e+00,\n",
              "        1.04678388e+00, -3.12334261e-02,  1.27240951e-01, -1.10521514e-02,\n",
              "       -5.49245721e-02,  1.75521119e+00, -9.19193809e-02,  1.37915103e-02,\n",
              "        1.38122057e+00, -7.03082043e-02,  2.02739781e+00,  1.30762796e+00,\n",
              "        1.83785222e+00, -2.14272709e-02,  1.72984945e+00,  2.00164998e+00,\n",
              "       -5.09755036e-02,  1.01539310e+00,  1.09749173e+00,  1.24694201e+00,\n",
              "        2.02130225e+00,  1.26529414e+00,  1.17254079e+00, -1.92542301e-02,\n",
              "       -6.21061256e-02, -4.57684843e-02,  1.72804687e+00,  1.22196636e+00,\n",
              "        1.27883523e+00, -8.07887589e-02,  2.20023529e+00,  1.75944857e+00,\n",
              "        1.80277636e+00,  1.29864383e+00,  8.96167679e-01,  1.18087486e+00,\n",
              "        9.59980684e-01,  1.79242780e+00,  1.95095776e+00, -7.63372421e-02,\n",
              "       -2.24078010e-01,  1.36045796e+00,  1.18356598e+00,  8.65268424e-01,\n",
              "        1.19463008e+00,  1.56675161e+00,  8.58522803e-01,  1.20057802e+00,\n",
              "        1.72603237e+00,  9.78530285e-01,  6.28044342e-02,  1.77405787e-02])"
            ]
          },
          "execution_count": 40,
          "metadata": {},
          "output_type": "execute_result"
        }
      ],
      "source": [
        "#80% of the data (trained)\n",
        "y_lr_train_pred"
      ]
    },
    {
      "cell_type": "code",
      "execution_count": null,
      "id": "d4afb0b1",
      "metadata": {
        "id": "d4afb0b1",
        "outputId": "f2116fd9-e924-4430-e3f0-5ac00382e253"
      },
      "outputs": [
        {
          "data": {
            "text/plain": [
              "array([ 1.89832627, -0.00489112,  2.20191459, -0.05532159,  1.58053116,\n",
              "        1.99648292, -0.16608095, -0.0342674 ,  1.67892747,  0.03329616,\n",
              "       -0.03871892,  1.92253549,  0.09361166, -0.08664585,  1.88495713,\n",
              "        1.14980365,  0.96879065,  1.48938189,  1.96910669,  1.82668164,\n",
              "        1.71520569,  0.03442212,  1.67395892,  0.01672005,  1.02257466,\n",
              "        1.64360325,  1.18792442, -0.03726246,  1.19704055,  1.96701579])"
            ]
          },
          "execution_count": 41,
          "metadata": {},
          "output_type": "execute_result"
        }
      ],
      "source": [
        "#20% of the data (testing)\n",
        "y_lr_test_pred"
      ]
    },
    {
      "cell_type": "markdown",
      "id": "54c0c26e",
      "metadata": {
        "id": "54c0c26e"
      },
      "source": [
        "So far, what we have done is implement F using linear regression. We then predicted y using F on the 2 data sets."
      ]
    },
    {
      "cell_type": "markdown",
      "id": "faae3902",
      "metadata": {
        "id": "faae3902"
      },
      "source": [
        "### Comparing Model Performance"
      ]
    },
    {
      "cell_type": "code",
      "execution_count": null,
      "id": "cdbc6e28",
      "metadata": {
        "id": "cdbc6e28"
      },
      "outputs": [],
      "source": [
        "from sklearn.metrics import mean_squared_error, r2_score\n",
        "#We will now test the model performance evaluating the mean squared error.\n",
        "#and r2 score of the models.\n",
        "#The r2 score measures how well the independent variables (x) explain the variability of the dependent variable (y).\n",
        "#train set:\n",
        "lr_train_mse = mean_squared_error(y_train, y_lr_train_pred)\n",
        "lr_train_r2 = r2_score(y_train, y_lr_train_pred)\n",
        "\n",
        "#test set:\n",
        "lr_test_mse = mean_squared_error(y_test, y_lr_test_pred)\n",
        "lr_test_r2 = r2_score(y_test, y_lr_test_pred)"
      ]
    },
    {
      "cell_type": "code",
      "execution_count": null,
      "id": "146e7f64",
      "metadata": {
        "id": "146e7f64",
        "outputId": "c1c498b4-d633-4a67-b1e3-5db671bf2a39"
      },
      "outputs": [
        {
          "name": "stdout",
          "output_type": "stream",
          "text": [
            " Train set MSE: 0.049166937863482064 \n",
            " Train set r2: 0.9223339287808093 \n",
            " Test set MSE: 0.036234680547680725 \n",
            " Test set r2: 0.9544536138367142\n"
          ]
        }
      ],
      "source": [
        "print(' Train set MSE:',lr_train_mse, '\\n',\n",
        "'Train set r2:',lr_train_r2, '\\n',\n",
        "'Test set MSE:',lr_test_mse, '\\n',\n",
        "'Test set r2:',lr_test_r2)"
      ]
    },
    {
      "cell_type": "markdown",
      "id": "19d520a4",
      "metadata": {
        "id": "19d520a4"
      },
      "source": [
        "### Data Visualisation"
      ]
    },
    {
      "cell_type": "code",
      "execution_count": null,
      "id": "f7fce5df",
      "metadata": {
        "id": "f7fce5df",
        "outputId": "d1628709-d7c9-42fe-c4bd-bbed7ae7540b"
      },
      "outputs": [
        {
          "data": {
            "text/plain": [
              "Text(0.5, 0, 'Experimental Species')"
            ]
          },
          "execution_count": 44,
          "metadata": {},
          "output_type": "execute_result"
        },
        {
          "data": {
            "image/png": "[encoded data removed]",
            "text/plain": [
              "<Figure size 500x500 with 1 Axes>"
            ]
          },
          "metadata": {},
          "output_type": "display_data"
        }
      ],
      "source": [
        "import matplotlib.pyplot as plt\n",
        "import numpy as np\n",
        "\n",
        "plt.figure(figsize=(5,5))\n",
        "plt.scatter(x=y_train, y=y_lr_train_pred ,alpha=0.3)\n",
        "\n",
        "z = np.polyfit(y_train, y_lr_train_pred, 1)\n",
        "p = np.poly1d(z)\n",
        "\n",
        "plt.plot(y_train, p(y_train), '#7CAE00')\n",
        "plt.ylabel('Predict Species')\n",
        "plt.xlabel('Experimental Species')"
      ]
    },
    {
      "cell_type": "markdown",
      "id": "d5019568",
      "metadata": {
        "id": "d5019568"
      },
      "source": [
        "### Conclusion and Analysis\n",
        "\n",
        "Here we can see that our experimental (dataset values) species are concentrated around 0,1,2 representing the three classifications. We can then see that our experimental species values attempt to create a line of best fit to model the data.\n",
        "It is imperitive to understand that using linear regression in a dataset with categorial outputs is not the best choice. As such, the results of the 80-20 train and test strategy does not yield fruitful results for this type of dataset. It is also improtant to understand that, as we increase the amount of segmentation within the data, we increase the predictive model efficiency for categorial data, but inversely affect the efficiency for numerical data. This can be examined further as we move onto the cross-validation strategy."
      ]
    },
    {
      "cell_type": "code",
      "execution_count": null,
      "id": "1a054103",
      "metadata": {
        "id": "1a054103"
      },
      "outputs": [],
      "source": []
    }
  ],
  "metadata": {
    "kernelspec": {
      "display_name": "Python 3 (ipykernel)",
      "language": "python",
      "name": "python3"
    },
    "language_info": {
      "codemirror_mode": {
        "name": "ipython",
        "version": 3
      },
      "file_extension": ".py",
      "mimetype": "text/x-python",
      "name": "python",
      "nbconvert_exporter": "python",
      "pygments_lexer": "ipython3",
      "version": "3.9.13"
    },
    "colab": {
      "provenance": [],
      "include_colab_link": true
    }
  },
  "nbformat": 4,
  "nbformat_minor": 5
}