{
  "cells": [
    {
      "cell_type": "markdown",
      "metadata": {
        "id": "view-in-github",
        "colab_type": "text"
      },
      "source": [
        "<a href=\"https://colab.research.google.com/github/Razor1889/Machine-Learning-on-Diverse-Datasets/blob/main/Term_Project_Second_Case_Categorial_Data.ipynb\" target=\"_parent\"><img src=\"https://colab.research.google.com/assets/colab-badge.svg\" alt=\"Open In Colab\"/></a>"
      ]
    },
    {
      "cell_type": "markdown",
      "id": "871b5398",
      "metadata": {
        "id": "871b5398"
      },
      "source": [
        "## A Comparative Evaluation of Machine Learning Techniques on Diverse Dataset Types"
      ]
    },
    {
      "cell_type": "code",
      "execution_count": null,
      "id": "96fb9894",
      "metadata": {
        "id": "96fb9894",
        "outputId": "0510ad64-f66c-4fc3-948a-8a153063c18c"
      },
      "outputs": [
        {
          "data": {
            "text/html": [
              "<div>\n",
              "<style scoped>\n",
              "    .dataframe tbody tr th:only-of-type {\n",
              "        vertical-align: middle;\n",
              "    }\n",
              "\n",
              "    .dataframe tbody tr th {\n",
              "        vertical-align: top;\n",
              "    }\n",
              "\n",
              "    .dataframe thead th {\n",
              "        text-align: right;\n",
              "    }\n",
              "</style>\n",
              "<table border=\"1\" class=\"dataframe\">\n",
              "  <thead>\n",
              "    <tr style=\"text-align: right;\">\n",
              "      <th></th>\n",
              "      <th>Sepal.Length</th>\n",
              "      <th>Sepal.Width</th>\n",
              "      <th>Petal.Length</th>\n",
              "      <th>Petal.Width</th>\n",
              "      <th>Species</th>\n",
              "    </tr>\n",
              "  </thead>\n",
              "  <tbody>\n",
              "    <tr>\n",
              "      <th>0</th>\n",
              "      <td>5.1</td>\n",
              "      <td>3.5</td>\n",
              "      <td>1.4</td>\n",
              "      <td>0.2</td>\n",
              "      <td>setosa</td>\n",
              "    </tr>\n",
              "    <tr>\n",
              "      <th>1</th>\n",
              "      <td>4.9</td>\n",
              "      <td>3.0</td>\n",
              "      <td>1.4</td>\n",
              "      <td>0.2</td>\n",
              "      <td>setosa</td>\n",
              "    </tr>\n",
              "    <tr>\n",
              "      <th>2</th>\n",
              "      <td>4.7</td>\n",
              "      <td>3.2</td>\n",
              "      <td>1.3</td>\n",
              "      <td>0.2</td>\n",
              "      <td>setosa</td>\n",
              "    </tr>\n",
              "    <tr>\n",
              "      <th>3</th>\n",
              "      <td>4.6</td>\n",
              "      <td>3.1</td>\n",
              "      <td>1.5</td>\n",
              "      <td>0.2</td>\n",
              "      <td>setosa</td>\n",
              "    </tr>\n",
              "    <tr>\n",
              "      <th>4</th>\n",
              "      <td>5.0</td>\n",
              "      <td>3.6</td>\n",
              "      <td>1.4</td>\n",
              "      <td>0.2</td>\n",
              "      <td>setosa</td>\n",
              "    </tr>\n",
              "    <tr>\n",
              "      <th>...</th>\n",
              "      <td>...</td>\n",
              "      <td>...</td>\n",
              "      <td>...</td>\n",
              "      <td>...</td>\n",
              "      <td>...</td>\n",
              "    </tr>\n",
              "    <tr>\n",
              "      <th>145</th>\n",
              "      <td>6.7</td>\n",
              "      <td>3.0</td>\n",
              "      <td>5.2</td>\n",
              "      <td>2.3</td>\n",
              "      <td>virginica</td>\n",
              "    </tr>\n",
              "    <tr>\n",
              "      <th>146</th>\n",
              "      <td>6.3</td>\n",
              "      <td>2.5</td>\n",
              "      <td>5.0</td>\n",
              "      <td>1.9</td>\n",
              "      <td>virginica</td>\n",
              "    </tr>\n",
              "    <tr>\n",
              "      <th>147</th>\n",
              "      <td>6.5</td>\n",
              "      <td>3.0</td>\n",
              "      <td>5.2</td>\n",
              "      <td>2.0</td>\n",
              "      <td>virginica</td>\n",
              "    </tr>\n",
              "    <tr>\n",
              "      <th>148</th>\n",
              "      <td>6.2</td>\n",
              "      <td>3.4</td>\n",
              "      <td>5.4</td>\n",
              "      <td>2.3</td>\n",
              "      <td>virginica</td>\n",
              "    </tr>\n",
              "    <tr>\n",
              "      <th>149</th>\n",
              "      <td>5.9</td>\n",
              "      <td>3.0</td>\n",
              "      <td>5.1</td>\n",
              "      <td>1.8</td>\n",
              "      <td>virginica</td>\n",
              "    </tr>\n",
              "  </tbody>\n",
              "</table>\n",
              "<p>150 rows × 5 columns</p>\n",
              "</div>"
            ],
            "text/plain": [
              "     Sepal.Length  Sepal.Width  Petal.Length  Petal.Width    Species\n",
              "0             5.1          3.5           1.4          0.2     setosa\n",
              "1             4.9          3.0           1.4          0.2     setosa\n",
              "2             4.7          3.2           1.3          0.2     setosa\n",
              "3             4.6          3.1           1.5          0.2     setosa\n",
              "4             5.0          3.6           1.4          0.2     setosa\n",
              "..            ...          ...           ...          ...        ...\n",
              "145           6.7          3.0           5.2          2.3  virginica\n",
              "146           6.3          2.5           5.0          1.9  virginica\n",
              "147           6.5          3.0           5.2          2.0  virginica\n",
              "148           6.2          3.4           5.4          2.3  virginica\n",
              "149           5.9          3.0           5.1          1.8  virginica\n",
              "\n",
              "[150 rows x 5 columns]"
            ]
          },
          "execution_count": 1,
          "metadata": {},
          "output_type": "execute_result"
        }
      ],
      "source": [
        "#Read in Data.\n",
        "import pandas as pd\n",
        "import IPython\n",
        "import timeit\n",
        "\n",
        "df = pd.read_csv('https://raw.githubusercontent.com/dataprofessor/data/master/iris.csv')\n",
        "df"
      ]
    },
    {
      "cell_type": "code",
      "execution_count": null,
      "id": "4c6c1cd3",
      "metadata": {
        "id": "4c6c1cd3",
        "outputId": "8bcf1f3b-6a6a-49e3-e09f-61028372e0a8"
      },
      "outputs": [
        {
          "data": {
            "text/plain": [
              "0         setosa\n",
              "1         setosa\n",
              "2         setosa\n",
              "3         setosa\n",
              "4         setosa\n",
              "         ...    \n",
              "145    virginica\n",
              "146    virginica\n",
              "147    virginica\n",
              "148    virginica\n",
              "149    virginica\n",
              "Name: Species, Length: 150, dtype: object"
            ]
          },
          "execution_count": 2,
          "metadata": {},
          "output_type": "execute_result"
        }
      ],
      "source": [
        "#Split the table such that we have y = F(x).\n",
        "#Isolate the result.\n",
        "y = df['Species']\n",
        "y"
      ]
    },
    {
      "cell_type": "code",
      "execution_count": null,
      "id": "f666db60",
      "metadata": {
        "id": "f666db60",
        "outputId": "e91631cf-09c9-446b-db6a-23e89385570c"
      },
      "outputs": [
        {
          "data": {
            "text/html": [
              "<div>\n",
              "<style scoped>\n",
              "    .dataframe tbody tr th:only-of-type {\n",
              "        vertical-align: middle;\n",
              "    }\n",
              "\n",
              "    .dataframe tbody tr th {\n",
              "        vertical-align: top;\n",
              "    }\n",
              "\n",
              "    .dataframe thead th {\n",
              "        text-align: right;\n",
              "    }\n",
              "</style>\n",
              "<table border=\"1\" class=\"dataframe\">\n",
              "  <thead>\n",
              "    <tr style=\"text-align: right;\">\n",
              "      <th></th>\n",
              "      <th>Sepal.Length</th>\n",
              "      <th>Sepal.Width</th>\n",
              "      <th>Petal.Length</th>\n",
              "      <th>Petal.Width</th>\n",
              "    </tr>\n",
              "  </thead>\n",
              "  <tbody>\n",
              "    <tr>\n",
              "      <th>0</th>\n",
              "      <td>5.1</td>\n",
              "      <td>3.5</td>\n",
              "      <td>1.4</td>\n",
              "      <td>0.2</td>\n",
              "    </tr>\n",
              "    <tr>\n",
              "      <th>1</th>\n",
              "      <td>4.9</td>\n",
              "      <td>3.0</td>\n",
              "      <td>1.4</td>\n",
              "      <td>0.2</td>\n",
              "    </tr>\n",
              "    <tr>\n",
              "      <th>2</th>\n",
              "      <td>4.7</td>\n",
              "      <td>3.2</td>\n",
              "      <td>1.3</td>\n",
              "      <td>0.2</td>\n",
              "    </tr>\n",
              "    <tr>\n",
              "      <th>3</th>\n",
              "      <td>4.6</td>\n",
              "      <td>3.1</td>\n",
              "      <td>1.5</td>\n",
              "      <td>0.2</td>\n",
              "    </tr>\n",
              "    <tr>\n",
              "      <th>4</th>\n",
              "      <td>5.0</td>\n",
              "      <td>3.6</td>\n",
              "      <td>1.4</td>\n",
              "      <td>0.2</td>\n",
              "    </tr>\n",
              "    <tr>\n",
              "      <th>...</th>\n",
              "      <td>...</td>\n",
              "      <td>...</td>\n",
              "      <td>...</td>\n",
              "      <td>...</td>\n",
              "    </tr>\n",
              "    <tr>\n",
              "      <th>145</th>\n",
              "      <td>6.7</td>\n",
              "      <td>3.0</td>\n",
              "      <td>5.2</td>\n",
              "      <td>2.3</td>\n",
              "    </tr>\n",
              "    <tr>\n",
              "      <th>146</th>\n",
              "      <td>6.3</td>\n",
              "      <td>2.5</td>\n",
              "      <td>5.0</td>\n",
              "      <td>1.9</td>\n",
              "    </tr>\n",
              "    <tr>\n",
              "      <th>147</th>\n",
              "      <td>6.5</td>\n",
              "      <td>3.0</td>\n",
              "      <td>5.2</td>\n",
              "      <td>2.0</td>\n",
              "    </tr>\n",
              "    <tr>\n",
              "      <th>148</th>\n",
              "      <td>6.2</td>\n",
              "      <td>3.4</td>\n",
              "      <td>5.4</td>\n",
              "      <td>2.3</td>\n",
              "    </tr>\n",
              "    <tr>\n",
              "      <th>149</th>\n",
              "      <td>5.9</td>\n",
              "      <td>3.0</td>\n",
              "      <td>5.1</td>\n",
              "      <td>1.8</td>\n",
              "    </tr>\n",
              "  </tbody>\n",
              "</table>\n",
              "<p>150 rows × 4 columns</p>\n",
              "</div>"
            ],
            "text/plain": [
              "     Sepal.Length  Sepal.Width  Petal.Length  Petal.Width\n",
              "0             5.1          3.5           1.4          0.2\n",
              "1             4.9          3.0           1.4          0.2\n",
              "2             4.7          3.2           1.3          0.2\n",
              "3             4.6          3.1           1.5          0.2\n",
              "4             5.0          3.6           1.4          0.2\n",
              "..            ...          ...           ...          ...\n",
              "145           6.7          3.0           5.2          2.3\n",
              "146           6.3          2.5           5.0          1.9\n",
              "147           6.5          3.0           5.2          2.0\n",
              "148           6.2          3.4           5.4          2.3\n",
              "149           5.9          3.0           5.1          1.8\n",
              "\n",
              "[150 rows x 4 columns]"
            ]
          },
          "execution_count": 3,
          "metadata": {},
          "output_type": "execute_result"
        }
      ],
      "source": [
        "#By dropping the Species column, we have isolated the rest of the table.\n",
        "x = df.drop('Species', axis=1)\n",
        "x"
      ]
    },
    {
      "cell_type": "markdown",
      "id": "692b690a",
      "metadata": {
        "id": "692b690a"
      },
      "source": [
        "\n",
        "\n",
        "### Cross Validation and Training"
      ]
    },
    {
      "cell_type": "code",
      "execution_count": null,
      "id": "87a0ed4c",
      "metadata": {
        "id": "87a0ed4c",
        "outputId": "ebacc53b-082e-47de-c98e-c09a75e5e535"
      },
      "outputs": [
        {
          "name": "stdout",
          "output_type": "stream",
          "text": [
            "1.01 ms ± 107 µs per loop (mean ± std. dev. of 7 runs, 100 loops each)\n"
          ]
        }
      ],
      "source": [
        "%%timeit -n 100\n",
        "from sklearn.model_selection import train_test_split\n",
        "#individual efficiency for training etc are calculated separately\n",
        "x_train, x_test, y_train, y_test = train_test_split(x, y, test_size=0.2, random_state=100)\n",
        "\n",
        "\n",
        "# Split the training set into four equal-sized subsets to implement cross-validation\n",
        "subset_size = len(x_train) // 4\n",
        "x_train_sub1 = x_train[:subset_size]\n",
        "x_train_sub2 = x_train[subset_size:2*subset_size]\n",
        "x_train_sub3 = x_train[2*subset_size:3*subset_size]\n",
        "x_train_sub4 = x_train[3*subset_size:]\n",
        "\n",
        "y_train_sub1 = y_train[:subset_size]\n",
        "y_train_sub2 = y_train[subset_size:2*subset_size]\n",
        "y_train_sub3 = y_train[2*subset_size:3*subset_size]\n",
        "y_train_sub4 = y_train[3*subset_size:]\n"
      ]
    },
    {
      "cell_type": "code",
      "execution_count": null,
      "id": "ab037bc6",
      "metadata": {
        "id": "ab037bc6"
      },
      "outputs": [],
      "source": [
        "#Timit function runs the cell as a function so it restricts the scope, therefore, we re-do the training outside of timeit to\n",
        "# maintain global scope\n",
        "from sklearn.model_selection import train_test_split\n",
        "#individual efficiency for training etc are calculated separately\n",
        "x_train, x_test, y_train, y_test = train_test_split(x, y, test_size=0.2, random_state=100)\n",
        "\n",
        "\n",
        "# Split the training set into four equal-sized subsets\n",
        "subset_size = len(x_train) // 4\n",
        "x_train_sub1 = x_train[:subset_size]\n",
        "x_train_sub2 = x_train[subset_size:2*subset_size]\n",
        "x_train_sub3 = x_train[2*subset_size:3*subset_size]\n",
        "x_train_sub4 = x_train[3*subset_size:]\n",
        "\n",
        "y_train_sub1 = y_train[:subset_size]\n",
        "y_train_sub2 = y_train[subset_size:2*subset_size]\n",
        "y_train_sub3 = y_train[2*subset_size:3*subset_size]\n",
        "y_train_sub4 = y_train[3*subset_size:]\n"
      ]
    },
    {
      "cell_type": "code",
      "execution_count": null,
      "id": "4ee339af",
      "metadata": {
        "id": "4ee339af"
      },
      "outputs": [],
      "source": [
        "#We then perform linear regression, however, since our y data has string values, we need to encode the values\n",
        "#such that they have numerical assignments to each category of species.\n",
        "from sklearn.preprocessing import LabelEncoder\n",
        "\n",
        "label_encoder = LabelEncoder()\n",
        "\n",
        "y_train = label_encoder.fit_transform(y_train)\n",
        "y_test = label_encoder.fit_transform(y_test)\n",
        "y_train_sub1 = label_encoder.fit_transform(y_train_sub1)\n",
        "y_train_sub2 = label_encoder.fit_transform(y_train_sub2)\n",
        "y_train_sub3 = label_encoder.fit_transform(y_train_sub3)\n",
        "y_train_sub4 = label_encoder.fit_transform(y_train_sub4)"
      ]
    },
    {
      "cell_type": "code",
      "execution_count": null,
      "id": "c5dcc50a",
      "metadata": {
        "id": "c5dcc50a"
      },
      "outputs": [],
      "source": [
        "from sklearn.linear_model import LinearRegression\n",
        "#Create a linear regression model and provide the training data\n",
        "lr = LinearRegression()\n",
        "lr.fit(x_train_sub1, y_train_sub1)\n",
        "lr.fit(x_train_sub2, y_train_sub2)\n",
        "lr.fit(x_train_sub3, y_train_sub3)\n",
        "lr.fit(x_train_sub4, y_train_sub4)\n",
        "\n",
        "y_lr_train_pred_1 = lr.predict(x_train_sub1)\n",
        "y_lr_train_pred_2 = lr.predict(x_train_sub2)\n",
        "y_lr_train_pred_3 = lr.predict(x_train_sub3)\n",
        "y_lr_train_pred_4 = lr.predict(x_train_sub4)\n",
        "y_lr_test_pred = lr.predict(x_test)\n"
      ]
    },
    {
      "cell_type": "code",
      "execution_count": null,
      "id": "8a209269",
      "metadata": {
        "id": "8a209269",
        "outputId": "0d5d260b-3687-4d0a-ad6f-a732e07dba70"
      },
      "outputs": [
        {
          "name": "stdout",
          "output_type": "stream",
          "text": [
            "8.73 ms ± 520 µs per loop (mean ± std. dev. of 7 runs, 100 loops each)\n"
          ]
        }
      ],
      "source": [
        "%%timeit -n 100\n",
        "from sklearn.linear_model import LinearRegression\n",
        "#Create a linear regression model and provide the training data\n",
        "lr = LinearRegression()\n",
        "lr.fit(x_train_sub1, y_train_sub1)\n",
        "lr.fit(x_train_sub2, y_train_sub2)\n",
        "lr.fit(x_train_sub3, y_train_sub3)\n",
        "lr.fit(x_train_sub4, y_train_sub4)\n",
        "\n",
        "y_lr_train_pred_1 = lr.predict(x_train_sub1)\n",
        "y_lr_train_pred_2 = lr.predict(x_train_sub2)\n",
        "y_lr_train_pred_3 = lr.predict(x_train_sub3)\n",
        "y_lr_train_pred_4 = lr.predict(x_train_sub4)\n",
        "y_lr_test_pred = lr.predict(x_test)\n"
      ]
    },
    {
      "cell_type": "markdown",
      "id": "54c0c26e",
      "metadata": {
        "id": "54c0c26e"
      },
      "source": [
        "So far, what we have done is implement F using linear regression. We then predicted y using F on the 2 data sets."
      ]
    },
    {
      "cell_type": "markdown",
      "id": "faae3902",
      "metadata": {
        "id": "faae3902"
      },
      "source": [
        "### Comparing Model Performance and Data Visualization"
      ]
    },
    {
      "cell_type": "code",
      "execution_count": null,
      "id": "a2659b37",
      "metadata": {
        "id": "a2659b37",
        "outputId": "be0e7b41-53ef-4d20-c2bd-e369bbcf5d72"
      },
      "outputs": [
        {
          "name": "stdout",
          "output_type": "stream",
          "text": [
            "Subset 1 - Train set MSE: 0.03905101350224814 R2: 0.9441241460222205\n",
            "Subset 2 - Train set MSE: 0.0791711416473191 R2: 0.8680480972544682\n",
            "Subset 3 - Train set MSE: 0.04707888173645607 R2: 0.9326375301068196\n",
            "Subset 4 - Train set MSE: 0.03746615391433474 R2: 0.9297509614106223\n",
            "Test set MSE: 0.03788094184806934 Test set R2: 0.9523842909730972\n"
          ]
        },
        {
          "data": {
            "image/png": "[encoded data removed]",
            "text/plain": [
              "<Figure size 1000x800 with 1 Axes>"
            ]
          },
          "metadata": {},
          "output_type": "display_data"
        }
      ],
      "source": [
        "from sklearn.metrics import mean_squared_error, r2_score\n",
        "import matplotlib.pyplot as plt\n",
        "import numpy as np\n",
        "\n",
        "# Calculate scores for each subset\n",
        "mse_train_1 = mean_squared_error(y_train_sub1, y_lr_train_pred_1)\n",
        "r2_train_1 = r2_score(y_train_sub1, y_lr_train_pred_1)\n",
        "\n",
        "mse_train_2 = mean_squared_error(y_train_sub2, y_lr_train_pred_2)\n",
        "r2_train_2 = r2_score(y_train_sub2, y_lr_train_pred_2)\n",
        "\n",
        "mse_train_3 = mean_squared_error(y_train_sub3, y_lr_train_pred_3)\n",
        "r2_train_3 = r2_score(y_train_sub3, y_lr_train_pred_3)\n",
        "\n",
        "mse_train_4 = mean_squared_error(y_train_sub4, y_lr_train_pred_4)\n",
        "r2_train_4 = r2_score(y_train_sub4, y_lr_train_pred_4)\n",
        "\n",
        "mse_test = mean_squared_error(y_test, y_lr_test_pred)\n",
        "r2_test = r2_score(y_test, y_lr_test_pred)\n",
        "\n",
        "\n",
        "print('Subset 1 - Train set MSE:', mse_train_1, 'R2:', r2_train_1)\n",
        "print('Subset 2 - Train set MSE:', mse_train_2, 'R2:', r2_train_2)\n",
        "print('Subset 3 - Train set MSE:', mse_train_3, 'R2:', r2_train_3)\n",
        "print('Subset 4 - Train set MSE:', mse_train_4, 'R2:', r2_train_4)\n",
        "print('Test set MSE:', mse_test, 'Test set R2:', r2_test)\n",
        "\n",
        "# Plotting\n",
        "plt.figure(figsize=(10, 8))\n",
        "\n",
        "\n",
        "plt.scatter(x=y_train_sub1, y=y_lr_train_pred_1, alpha=0.3, label='Subset 1')\n",
        "z_1 = np.polyfit(y_train_sub1, y_lr_train_pred_1, 1)\n",
        "p_1 = np.poly1d(z_1)\n",
        "plt.plot(y_train_sub1, p_1(y_train_sub1), '#7CAE00')\n",
        "\n",
        "\n",
        "plt.scatter(x=y_train_sub2, y=y_lr_train_pred_2, alpha=0.3, label='Subset 2')\n",
        "z_2 = np.polyfit(y_train_sub2, y_lr_train_pred_2, 1)\n",
        "p_2 = np.poly1d(z_2)\n",
        "plt.plot(y_train_sub2, p_2(y_train_sub2), '#FFA500')\n",
        "\n",
        "\n",
        "plt.scatter(x=y_train_sub3, y=y_lr_train_pred_3, alpha=0.3, label='Subset 3')\n",
        "z_3 = np.polyfit(y_train_sub3, y_lr_train_pred_3, 1)\n",
        "p_3 = np.poly1d(z_3)\n",
        "plt.plot(y_train_sub3, p_3(y_train_sub3), '#FF0000')\n",
        "\n",
        "\n",
        "plt.scatter(x=y_train_sub4, y=y_lr_train_pred_4, alpha=0.3, label='Subset 4')\n",
        "z_4 = np.polyfit(y_train_sub4, y_lr_train_pred_4, 1)\n",
        "p_4 = np.poly1d(z_4)\n",
        "plt.plot(y_train_sub4, p_4(y_train_sub4), '#0000FF')\n",
        "\n",
        "plt.ylabel('Predicted Solubility')\n",
        "plt.xlabel('Experimental Solubility')\n",
        "plt.legend()\n",
        "plt.show()\n"
      ]
    },
    {
      "cell_type": "code",
      "execution_count": null,
      "id": "391bbec6",
      "metadata": {
        "id": "391bbec6"
      },
      "outputs": [],
      "source": []
    }
  ],
  "metadata": {
    "kernelspec": {
      "display_name": "Python 3 (ipykernel)",
      "language": "python",
      "name": "python3"
    },
    "language_info": {
      "codemirror_mode": {
        "name": "ipython",
        "version": 3
      },
      "file_extension": ".py",
      "mimetype": "text/x-python",
      "name": "python",
      "nbconvert_exporter": "python",
      "pygments_lexer": "ipython3",
      "version": "3.9.13"
    },
    "colab": {
      "provenance": [],
      "include_colab_link": true
    }
  },
  "nbformat": 4,
  "nbformat_minor": 5
}